{
 "cells": [
  {
   "cell_type": "code",
   "execution_count": 7,
   "id": "810ff523-e85d-4a03-9551-0c1860784010",
   "metadata": {},
   "outputs": [],
   "source": [
    "from pyspark.sql import SparkSession\n",
    "from pyspark.sql.functions import col"
   ]
  },
  {
   "cell_type": "code",
   "execution_count": 3,
   "id": "79675a52-91ef-4726-9d31-acdbbb5e99f8",
   "metadata": {},
   "outputs": [
    {
     "name": "stderr",
     "output_type": "stream",
     "text": [
      "                                                                                \r"
     ]
    }
   ],
   "source": [
    "spark = SparkSession.builder \\\n",
    "    .appName(\"Read JSON Example\") \\\n",
    "    .getOrCreate()\n",
    "\n",
    "df = spark.read.json(\"/home/felipe/Desktop/hackaton_aveiro/P1/p30_17_09_1020_21_09_0000.json\")\n"
   ]
  },
  {
   "cell_type": "code",
   "execution_count": 9,
   "id": "0389171e-34b1-4388-9a06-394036e25889",
   "metadata": {},
   "outputs": [
    {
     "name": "stdout",
     "output_type": "stream",
     "text": [
      "root\n",
      " |-- _id: struct (nullable = true)\n",
      " |    |-- $oid: string (nullable = true)\n",
      " |-- acceleration: double (nullable = true)\n",
      " |-- confidence: long (nullable = true)\n",
      " |-- detectedID: long (nullable = true)\n",
      " |-- entityId: string (nullable = true)\n",
      " |-- entityType: string (nullable = true)\n",
      " |-- eventTimestamp: struct (nullable = true)\n",
      " |    |-- $date: string (nullable = true)\n",
      " |-- hasDevices: array (nullable = true)\n",
      " |    |-- element: string (containsNull = true)\n",
      " |-- heading: double (nullable = true)\n",
      " |-- insertionTimestamp: string (nullable = true)\n",
      " |-- length: double (nullable = true)\n",
      " |-- location: struct (nullable = true)\n",
      " |    |-- coordinates: array (nullable = true)\n",
      " |    |    |-- element: double (containsNull = true)\n",
      " |    |-- type: string (nullable = true)\n",
      " |-- observedBy: string (nullable = true)\n",
      " |-- recvTime: struct (nullable = true)\n",
      " |    |-- $date: string (nullable = true)\n",
      " |-- speed: double (nullable = true)\n",
      "\n"
     ]
    }
   ],
   "source": [
    "df.printSchema()"
   ]
  },
  {
   "cell_type": "code",
   "execution_count": 16,
   "id": "fe372ecb-8813-4204-b14a-3ec3a4167657",
   "metadata": {},
   "outputs": [],
   "source": [
    "df = df.withColumn(\"acceleration\", col(\"acceleration\").cast(\"double\"))\n",
    "df = df.filter(col(\"acceleration\").isNotNull())"
   ]
  },
  {
   "cell_type": "code",
   "execution_count": 17,
   "id": "cff7f84d-1312-4846-bea4-05af019ef5ba",
   "metadata": {},
   "outputs": [
    {
     "name": "stderr",
     "output_type": "stream",
     "text": [
      "[Stage 11:==========================================>             (15 + 5) / 20]\r"
     ]
    },
    {
     "name": "stdout",
     "output_type": "stream",
     "text": [
      "The maximum acceleration is: Row(_id=Row($oid='66edb8e5d384c953aad864b3'), acceleration=-51.218356659, confidence=99, detectedID=518103125, entityId='urn:ngsi-ld:Car:518103125', entityType='Car', eventTimestamp=Row($date='2024-09-20T18:03:17Z'), hasDevices=[], heading=43.896, insertionTimestamp='2024-09-20T18:03:17Z', length=5.6, location=Row(coordinates=[-8.646465948, 40.635898922], type='Point'), observedBy='urn:ngsi-ld:SlpRadar:030', recvTime=Row($date='2024-09-20T18:03:17Z'), speed=0.0)\n"
     ]
    },
    {
     "name": "stderr",
     "output_type": "stream",
     "text": [
      "                                                                                \r"
     ]
    }
   ],
   "source": [
    "max_accel_row = df.orderBy(col(\"acceleration\").asc()).first()\n",
    "\n",
    "print(f\"The maximum acceleration is: {max_accel_row}\")"
   ]
  },
  {
   "cell_type": "code",
   "execution_count": 25,
   "id": "ebfb4048-58f7-42b4-8cf6-8785f5bf95a8",
   "metadata": {},
   "outputs": [
    {
     "name": "stderr",
     "output_type": "stream",
     "text": [
      "[Stage 18:======================>                                  (6 + 9) / 15]\r"
     ]
    },
    {
     "name": "stdout",
     "output_type": "stream",
     "text": [
      "+--------------------+-------------+----------+----------+--------------------+----------+--------------------+----------+-------+--------------------+------+--------------------+--------------------+--------------------+-----+\n",
      "|                 _id| acceleration|confidence|detectedID|            entityId|entityType|      eventTimestamp|hasDevices|heading|  insertionTimestamp|length|            location|          observedBy|            recvTime|speed|\n",
      "+--------------------+-------------+----------+----------+--------------------+----------+--------------------+----------+-------+--------------------+------+--------------------+--------------------+--------------------+-----+\n",
      "|{66edb8e49edcdf08...|          0.0|        99| 518103125|urn:ngsi-ld:Car:5...|       Car|{2024-09-20T18:03...|        []| 43.896|2024-09-20T18:03:16Z|   5.6|{[-8.646437799, 4...|urn:ngsi-ld:SlpRa...|{2024-09-20T18:03...|  4.0|\n",
      "|{66edb8e49a489002...|          0.0|        99| 518103125|urn:ngsi-ld:Car:5...|       Car|{2024-09-20T18:03...|        []| 43.896|2024-09-20T18:03:16Z|   5.6|{[-8.646435359, 4...|urn:ngsi-ld:SlpRa...|{2024-09-20T18:03...|  4.0|\n",
      "|{66edb8e4bfbf7447...|          0.0|        99| 518103125|urn:ngsi-ld:Car:5...|       Car|{2024-09-20T18:03...|        []| 43.896|2024-09-20T18:03:16Z|   5.6|{[-8.646448063, 4...|urn:ngsi-ld:SlpRa...|{2024-09-20T18:03...|  4.0|\n",
      "|{66edb8e49edcdf08...|          0.0|        99| 518103125|urn:ngsi-ld:Car:5...|       Car|{2024-09-20T18:03...|        []| 43.896|2024-09-20T18:03:16Z|   5.6|{[-8.646444151, 4...|urn:ngsi-ld:SlpRa...|{2024-09-20T18:03...|  4.0|\n",
      "|{66edb8e49a489002...|          0.0|        99| 518103125|urn:ngsi-ld:Car:5...|       Car|{2024-09-20T18:03...|        []| 43.896|2024-09-20T18:03:16Z|   5.6|{[-8.64643917, 40...|urn:ngsi-ld:SlpRa...|{2024-09-20T18:03...|  4.0|\n",
      "|{66edb8e49a489002...|          0.0|        99| 518103125|urn:ngsi-ld:Car:5...|       Car|{2024-09-20T18:03...|        []| 43.896|2024-09-20T18:03:16Z|   5.6|{[-8.646449333, 4...|urn:ngsi-ld:SlpRa...|{2024-09-20T18:03...|  4.0|\n",
      "|{66edb8e5f3455746...|          0.0|        99| 518103125|urn:ngsi-ld:Car:5...|       Car|{2024-09-20T18:03...|        []| 43.896|2024-09-20T18:03:17Z|   5.6|{[-8.646445522, 4...|urn:ngsi-ld:SlpRa...|{2024-09-20T18:03...|  4.0|\n",
      "|{66edb8e5d384c953...|          0.0|        99| 518103125|urn:ngsi-ld:Car:5...|       Car|{2024-09-20T18:03...|        []| 43.896|2024-09-20T18:03:17Z|   5.6|{[-8.646441711, 4...|urn:ngsi-ld:SlpRa...|{2024-09-20T18:03...|  4.0|\n",
      "|{66edb8e5bfbf7447...|          0.0|        99| 518103125|urn:ngsi-ld:Car:5...|       Car|{2024-09-20T18:03...|        []| 43.896|2024-09-20T18:03:17Z|   5.6|{[-8.646451874, 4...|urn:ngsi-ld:SlpRa...|{2024-09-20T18:03...|  4.0|\n",
      "|{66edb8e5f3455746...|          0.0|        99| 518103125|urn:ngsi-ld:Car:5...|       Car|{2024-09-20T18:03...|        []| 43.896|2024-09-20T18:03:17Z|   5.6|{[-8.646459596, 4...|urn:ngsi-ld:SlpRa...|{2024-09-20T18:03...|  4.0|\n",
      "|{66edb8e5bfbf7447...|          0.0|        99| 518103125|urn:ngsi-ld:Car:5...|       Car|{2024-09-20T18:03...|        []| 43.896|2024-09-20T18:03:17Z|   5.6|{[-8.646458226, 4...|urn:ngsi-ld:SlpRa...|{2024-09-20T18:03...|  4.0|\n",
      "|{66edb8e5bfbf7447...|          0.0|        99| 518103125|urn:ngsi-ld:Car:5...|       Car|{2024-09-20T18:03...|        []| 43.896|2024-09-20T18:03:17Z|   5.6|{[-8.646454414, 4...|urn:ngsi-ld:SlpRa...|{2024-09-20T18:03...|  4.0|\n",
      "|{66edb8e59a489002...|          0.0|        99| 518103125|urn:ngsi-ld:Car:5...|       Car|{2024-09-20T18:03...|        []| 43.896|2024-09-20T18:03:17Z|   5.6|{[-8.646462037, 4...|urn:ngsi-ld:SlpRa...|{2024-09-20T18:03...|  4.0|\n",
      "|{66edb8e6d384c953...|          0.0|        99| 518103125|urn:ngsi-ld:Car:5...|       Car|{2024-09-20T18:03...|        []| 43.896|2024-09-20T18:03:17Z|   5.6|{[-8.646455685, 4...|urn:ngsi-ld:SlpRa...|{2024-09-20T18:03...|  4.0|\n",
      "|{66edb8e69a489002...|          0.0|        99| 518103125|urn:ngsi-ld:Car:5...|       Car|{2024-09-20T18:03...|        []| 43.896|2024-09-20T18:03:18Z|   5.6|{[-8.646464577, 4...|urn:ngsi-ld:SlpRa...|{2024-09-20T18:03...|  4.0|\n",
      "|{66edb8e5bfbf7447...|          0.0|        99| 518103125|urn:ngsi-ld:Car:5...|       Car|{2024-09-20T18:03...|        []| 43.896|2024-09-20T18:03:17Z|   5.6|{[-8.646465948, 4...|urn:ngsi-ld:SlpRa...|{2024-09-20T18:03...|  0.0|\n",
      "|{66edb8e5bfbf7447...|          0.0|        99| 518103125|urn:ngsi-ld:Car:5...|       Car|{2024-09-20T18:03...|        []| 43.896|2024-09-20T18:03:17Z|   5.6|{[-8.646465948, 4...|urn:ngsi-ld:SlpRa...|{2024-09-20T18:03...|  4.0|\n",
      "|{66edb8e59a489002...|          0.0|        99| 518103125|urn:ngsi-ld:Car:5...|       Car|{2024-09-20T18:03...|        []| 43.896|2024-09-20T18:03:17Z|   5.6|{[-8.646465948, 4...|urn:ngsi-ld:SlpRa...|{2024-09-20T18:03...|  0.0|\n",
      "|{66edb8e5d384c953...|-51.218356659|        99| 518103125|urn:ngsi-ld:Car:5...|       Car|{2024-09-20T18:03...|        []| 43.896|2024-09-20T18:03:17Z|   5.6|{[-8.646465948, 4...|urn:ngsi-ld:SlpRa...|{2024-09-20T18:03...|  0.0|\n",
      "|{66edb8e69a489002...|          0.0|        99| 518103125|urn:ngsi-ld:Car:5...|       Car|{2024-09-20T18:03...|        []| 43.896|2024-09-20T18:03:18Z|   5.6|{[-8.646465948, 4...|urn:ngsi-ld:SlpRa...|{2024-09-20T18:03...|  0.0|\n",
      "+--------------------+-------------+----------+----------+--------------------+----------+--------------------+----------+-------+--------------------+------+--------------------+--------------------+--------------------+-----+\n",
      "only showing top 20 rows\n",
      "\n"
     ]
    },
    {
     "name": "stderr",
     "output_type": "stream",
     "text": [
      "                                                                                \r"
     ]
    }
   ],
   "source": [
    "filtered = df.where(col(\"entityId\") == \"urn:ngsi-ld:Car:518103125\")\n",
    "filtered.show()"
   ]
  },
  {
   "cell_type": "code",
   "execution_count": 27,
   "id": "4d44d8f3-aa5d-4a6a-9025-e29345c516ea",
   "metadata": {},
   "outputs": [
    {
     "name": "stderr",
     "output_type": "stream",
     "text": [
      "[Stage 24:======================>                                  (6 + 9) / 15]\r"
     ]
    },
    {
     "name": "stdout",
     "output_type": "stream",
     "text": [
      "+-------------+\n",
      "| acceleration|\n",
      "+-------------+\n",
      "|          0.0|\n",
      "|          0.0|\n",
      "|          0.0|\n",
      "|          0.0|\n",
      "|          0.0|\n",
      "|          0.0|\n",
      "|          0.0|\n",
      "|          0.0|\n",
      "|          0.0|\n",
      "|          0.0|\n",
      "|          0.0|\n",
      "|          0.0|\n",
      "|          0.0|\n",
      "|          0.0|\n",
      "|          0.0|\n",
      "|          0.0|\n",
      "|          0.0|\n",
      "|          0.0|\n",
      "|-51.218356659|\n",
      "|          0.0|\n",
      "+-------------+\n",
      "only showing top 20 rows\n",
      "\n"
     ]
    },
    {
     "name": "stderr",
     "output_type": "stream",
     "text": [
      "                                                                                \r"
     ]
    }
   ],
   "source": [
    "filtered.select(\"acceleration\").show()"
   ]
  },
  {
   "cell_type": "code",
   "execution_count": 18,
   "id": "34a76350-d617-498a-9115-397fe77acf93",
   "metadata": {},
   "outputs": [
    {
     "name": "stderr",
     "output_type": "stream",
     "text": [
      "                                                                                \r"
     ]
    },
    {
     "data": {
      "text/plain": [
       "Row(_id=Row($oid='66eb1ec8bfbf7447f0725d45'), acceleration=0.406142912, confidence=95, detectedID=507321248, entityId='urn:ngsi-ld:Motorcycle:507321248', entityType='Motorcycle', eventTimestamp=Row($date='2024-09-18T18:41:11Z'), hasDevices=[], heading=-136.113, insertionTimestamp='2024-09-18T18:41:12Z', length=2.6, location=Row(coordinates=[-8.645782355, 40.635280024], type='Point'), observedBy='urn:ngsi-ld:SlpRadar:030', recvTime=Row($date='2024-09-18T18:41:11Z'), speed=26.4)"
      ]
     },
     "execution_count": 18,
     "metadata": {},
     "output_type": "execute_result"
    }
   ],
   "source": [
    "df.orderBy(col(\"speed\").desc()).first()"
   ]
  }
 ],
 "metadata": {
  "kernelspec": {
   "display_name": "Python 3 (ipykernel)",
   "language": "python",
   "name": "python3"
  },
  "language_info": {
   "codemirror_mode": {
    "name": "ipython",
    "version": 3
   },
   "file_extension": ".py",
   "mimetype": "text/x-python",
   "name": "python",
   "nbconvert_exporter": "python",
   "pygments_lexer": "ipython3",
   "version": "3.10.12"
  }
 },
 "nbformat": 4,
 "nbformat_minor": 5
}
